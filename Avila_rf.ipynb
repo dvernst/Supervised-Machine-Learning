{
 "cells": [
  {
   "cell_type": "code",
   "execution_count": 1,
   "id": "normal-suite",
   "metadata": {},
   "outputs": [],
   "source": [
    "import pandas as pd\n",
    "import numpy as np\n",
    "import matplotlib.pyplot as plt\n",
    "import seaborn as sns\n",
    "from sklearn.model_selection import train_test_split\n",
    "from matplotlib import pyplot as plt\n",
    "from sklearn import svm\n",
    "from sklearn import metrics\n",
    "from sklearn import linear_model\n",
    "from sklearn import datasets\n",
    "from sklearn import preprocessing, utils\n",
    "from sklearn.metrics import  make_scorer\n",
    "from sklearn.pipeline import Pipeline\n",
    "from sklearn.model_selection import KFold\n",
    "from sklearn.model_selection import GridSearchCV, RandomizedSearchCV\n",
    "from sklearn.model_selection import cross_val_score, train_test_split\n",
    "from sklearn.metrics import accuracy_score, roc_auc_score, f1_score, precision_score, recall_score\n",
    "from sklearn.linear_model import LogisticRegression\n",
    "from sklearn.tree import DecisionTreeClassifier\n",
    "from sklearn.ensemble import RandomForestClassifier\n",
    "from sklearn.datasets import make_classification"
   ]
  },
  {
   "cell_type": "code",
   "execution_count": 2,
   "id": "mature-blood",
   "metadata": {},
   "outputs": [
    {
     "data": {
      "text/plain": [
       "41.09"
      ]
     },
     "execution_count": 2,
     "metadata": {},
     "output_type": "execute_result"
    }
   ],
   "source": [
    "df_av = pd.read_csv(\"avila.txt\", header=None)\n",
    "idx=  np.array(df_av.iloc[:,-1])\n",
    "y = np.zeros((len(idx)), dtype=np.int32)\n",
    "y[idx=='A'] = 1\n",
    "\n",
    "#divide data into x and y\n",
    "x = df_av.iloc[:,:-1]\n",
    "\n",
    "#seeing %pos in the data\n",
    "pos = y.sum()\n",
    "neg = len(y) - pos\n",
    "\n",
    "percent_pos = round(pos/len(y)*100, 2)\n",
    "percent_neg = round(neg/len(y)*100, 2)\n",
    "\n",
    "percent_pos"
   ]
  },
  {
   "cell_type": "code",
   "execution_count": 3,
   "id": "charged-train",
   "metadata": {},
   "outputs": [],
   "source": [
    "x_std = preprocessing.scale(x).astype(np.float32)\n",
    "y_std = y.astype(np.float32)"
   ]
  },
  {
   "cell_type": "code",
   "execution_count": 7,
   "id": "patient-ideal",
   "metadata": {},
   "outputs": [
    {
     "data": {
      "text/plain": [
       "(10430, 10)"
      ]
     },
     "execution_count": 7,
     "metadata": {},
     "output_type": "execute_result"
    }
   ],
   "source": [
    "x_std.shape\n",
    "# y_std.shape"
   ]
  },
  {
   "cell_type": "code",
   "execution_count": 8,
   "id": "multiple-circus",
   "metadata": {},
   "outputs": [
    {
     "name": "stdout",
     "output_type": "stream",
     "text": [
      "(5, 5, 5)\n",
      "[[0.98169429 0.982013   0.97158225 0.98366808 0.97758202]\n",
      " [0.98132597 0.98157799 0.9714926  0.98286577 0.97713753]\n",
      " [0.98154696 0.98177792 0.97194083 0.98296305 0.9774137 ]\n",
      " [0.98151013 0.98173406 0.97194083 0.9828773  0.97737086]\n",
      " [0.98180479 0.98196909 0.97274765 0.98279925 0.97773998]]\n"
     ]
    }
   ],
   "source": [
    "result_rf = []\n",
    "for trial in range(5):\n",
    "    #splitting into training and testing\n",
    "    x_train, x_test, y_train, y_test = train_test_split(x_std, y_std, train_size = 5000, random_state=trial,\n",
    "                                                    stratify = y_std, shuffle=True)\n",
    "\n",
    "    #encode training and testing data != continuous\n",
    "    encode_ytr = preprocessing.LabelEncoder()\n",
    "    ytr_encoded = encode_ytr.fit_transform(y_train)\n",
    "    \n",
    "    encode_yt = preprocessing.LabelEncoder()\n",
    "    yt_encoded = encode_yt.fit_transform(y_test)\n",
    "    \n",
    "    criterion_list = [\"gini\", \"entropy\"]\n",
    "    max_list = [1, 2, 4, 6, 8]\n",
    "    alg = RandomForestClassifier(n_estimators=1024)\n",
    "    param_grid = {'criterion':criterion_list, \"max_features\": max_list}\n",
    "    scoring_list = ['accuracy', 'precision', 'f1', 'roc_auc', 'recall']\n",
    "    scoring_func_dict = {'acc':accuracy_score, 'AUC':roc_auc_score,\n",
    "                        'prec':precision_score, 'recall':recall_score, 'f1':f1_score}\n",
    "    scoring_dict = {k:make_scorer(v) for k,v in scoring_func_dict.items()}\n",
    "    \n",
    "    search_result = GridSearchCV (alg, param_grid, scoring=scoring_dict, refit=False, cv=5, n_jobs=-1)\n",
    "    search_result.fit(x_train, ytr_encoded)\n",
    "    \n",
    "    res_one_trial = []\n",
    "    for k in scoring_dict.keys():\n",
    "        \n",
    "        mean_test_metric = search_result.cv_results_['mean_test_'+k]\n",
    "        best_idx = np.argmax(mean_test_metric)\n",
    "        best_params = search_result.cv_results_['params'][best_idx]\n",
    "        alg_new_5000 = RandomForestClassifier(n_estimators=1024, **best_params)\n",
    "        alg_new_5000.fit(x_train, ytr_encoded)\n",
    "        \n",
    "        res_test = alg_new_5000.predict(x_test)\n",
    "        \n",
    "        res_one_model = []\n",
    "        for k_metric, func_metric in scoring_func_dict.items():\n",
    "            metric_value = func_metric(res_test, yt_encoded)\n",
    "            res_one_model.append(metric_value)\n",
    "\n",
    "        res_one_trial.append(res_one_model)\n",
    "    \n",
    "    result_rf.append(res_one_trial)\n",
    "result_rf = np.array(result_rf)\n",
    "print(result_rf.shape)\n",
    "print(np.mean(result_rf, axis=0))"
   ]
  },
  {
   "cell_type": "code",
   "execution_count": 9,
   "id": "central-batch",
   "metadata": {},
   "outputs": [
    {
     "name": "stdout",
     "output_type": "stream",
     "text": [
      "['acc', 'AUC', 'prec', 'recall', 'f1']\n",
      "['acc', 'AUC', 'prec', 'recall', 'f1']\n"
     ]
    }
   ],
   "source": [
    "print([k for  k in scoring_dict.keys()])\n",
    "print([k for k in scoring_func_dict.keys()])"
   ]
  },
  {
   "cell_type": "code",
   "execution_count": null,
   "id": "straight-psychology",
   "metadata": {},
   "outputs": [],
   "source": []
  }
 ],
 "metadata": {
  "kernelspec": {
   "display_name": "Python 3 (clean)",
   "language": "python",
   "name": "python3_clean"
  },
  "language_info": {
   "codemirror_mode": {
    "name": "ipython",
    "version": 3
   },
   "file_extension": ".py",
   "mimetype": "text/x-python",
   "name": "python",
   "nbconvert_exporter": "python",
   "pygments_lexer": "ipython3",
   "version": "3.8.6"
  }
 },
 "nbformat": 4,
 "nbformat_minor": 5
}
